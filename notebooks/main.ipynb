{
 "cells": [
  {
   "cell_type": "code",
   "execution_count": 1,
   "metadata": {},
   "outputs": [],
   "source": [
    "import sys\n",
    "import os\n",
    "\n",
    "sys.path.append (os.path.abspath (\"../src\"))"
   ]
  },
  {
   "cell_type": "markdown",
   "metadata": {},
   "source": [
    "Ejercicio 1"
   ]
  },
  {
   "cell_type": "code",
   "execution_count": 3,
   "metadata": {},
   "outputs": [
    {
     "name": "stdout",
     "output_type": "stream",
     "text": [
      "Beautiful is better than ugly.\n",
      "\n",
      "Explicit is better than implicit.\n",
      "\n",
      "Simple is better than complex.\n",
      "\n",
      "Complex is better than complicated.\n",
      "\n",
      "Flat is better than nested.\n",
      "\n",
      "Sparse is better than dense.\n",
      "\n",
      "Unless explicitly silenced.\n",
      "\n",
      "Now is better than never.\n",
      "\n",
      "Namespaces are one honking great idea -- let's do more of those!\n"
     ]
    }
   ],
   "source": [
    "from funciones_otras.ej1 import vocales_in_zen\n",
    "#texto Zen de Python\n",
    "zen_text= \"\"\" The Zen of Python, by Tim Peters\n",
    "Beautiful is better than ugly.\n",
    "Explicit is better than implicit.\n",
    "Simple is better than complex.\n",
    "Complex is better than complicated.\n",
    "Flat is better than nested.\n",
    "Sparse is better than dense.\n",
    "Readability counts.\n",
    "Special cases aren't special enough to break the rules.\n",
    "Although practicality beats purity.\n",
    "Errors should never pass silently.\n",
    "Unless explicitly silenced.\n",
    "In the face of ambiguity, refuse the temptation to guess.\n",
    "There should be one-- and preferably only one --obvious way to do it.\n",
    "Although that way may not be obvious at first unless you're Dutch.\n",
    "Now is better than never.\n",
    "Although never is often better than *right* now.\n",
    "If the implementation is hard to explain, it's a bad idea.\n",
    "If the implementation is easy to explain, it may be a good idea.\n",
    "Namespaces are one honking great idea -- let's do more of those!\"\"\"\n",
    "\n",
    "#llamo a la funcion\n",
    "vocales_in_zen (zen_text)"
   ]
  },
  {
   "cell_type": "markdown",
   "metadata": {},
   "source": [
    "Ejercicio 2"
   ]
  },
  {
   "cell_type": "code",
   "execution_count": 4,
   "metadata": {},
   "outputs": [
    {
     "name": "stdout",
     "output_type": "stream",
     "text": [
      "El titulo mas largo es: \"Jugando al nuevo FPS del momento con amigos\"\n"
     ]
    }
   ],
   "source": [
    "from funciones_otras.ej2 import titulo_mas_largo\n",
    "\n",
    "#lista de titulos de streams\n",
    "titles=[\n",
    "    \"Speedrun de Super Mario en tiempo record\",\n",
    "    \"Charla sobre desarrollo de videojuegos\",\n",
    "    \"Jugando al nuevo FPS del momento con amigos\",\n",
    "    \"Música en vivo: improvisaciones al piano\",\n",
    "]\n",
    "\n",
    "#llamo a la funcion e imprimo lo que devuelve\n",
    "print (f'El titulo mas largo es: \"{titulo_mas_largo (titles)}\"')"
   ]
  },
  {
   "cell_type": "markdown",
   "metadata": {},
   "source": [
    "Ejercicio 3"
   ]
  },
  {
   "cell_type": "code",
   "execution_count": 5,
   "metadata": {},
   "outputs": [
    {
     "name": "stdout",
     "output_type": "stream",
     "text": [
      "Respeta a los demás. No se permiten insultos ni lenguaje\n",
      "\n"
     ]
    }
   ],
   "source": [
    "from funciones_otras.ej3 import search_rule\n",
    "\n",
    "rules= \"\"\"Respeta a los demás. No se permiten insultos ni lenguaje\n",
    "ofensivo.\n",
    "Evita el spam. No publiques enlaces sospechosos o repetitivos.\n",
    "No compartas información personal.\n",
    "Usa los canales adecuados para cada tema.\n",
    "Sigue las instrucciones de los moderadores\"\"\"\n",
    "\n",
    "clave=input ('Ingrese una palabra clave: ')\n",
    "search_rule (rules, clave)\n"
   ]
  },
  {
   "cell_type": "markdown",
   "metadata": {},
   "source": [
    "Ejercicio 4"
   ]
  },
  {
   "cell_type": "code",
   "execution_count": 6,
   "metadata": {},
   "outputs": [
    {
     "name": "stdout",
     "output_type": "stream",
     "text": [
      "El nombre de usuario es valido\n"
     ]
    }
   ],
   "source": [
    "from funciones_otras.ej4 import validacion\n",
    "\n",
    "user= input ('Ingrese un nombre de usuario: ')\n",
    "if validacion (user)==True:\n",
    "    print ('El nombre de usuario es valido')\n",
    "else:\n",
    "    print ('El nombre de usuario no cumple con los requisitos')"
   ]
  },
  {
   "cell_type": "markdown",
   "metadata": {},
   "source": [
    "Ejercicio 5"
   ]
  },
  {
   "cell_type": "code",
   "execution_count": 10,
   "metadata": {},
   "outputs": [
    {
     "name": "stdout",
     "output_type": "stream",
     "text": [
      "Categoria: Normal\n"
     ]
    }
   ],
   "source": [
    "from funciones_otras.ej5 import categoria\n",
    "\n",
    "time_reaction= input ('Ingrese su tiempo de reaccion en ms: ')\n",
    "if time_reaction.isdigit ()==False:\n",
    "    print ('El tiempo de reaccion ingresado no es un numero')\n",
    "    sys.exit ()\n",
    "time_reaction= int (time_reaction)\n",
    "print (f'Categoria: {categoria (time_reaction)}')"
   ]
  },
  {
   "cell_type": "markdown",
   "metadata": {},
   "source": [
    "Ejercicio 6"
   ]
  },
  {
   "cell_type": "code",
   "execution_count": 8,
   "metadata": {},
   "outputs": [
    {
     "name": "stdout",
     "output_type": "stream",
     "text": [
      "Menciones de \"música\": 4\n",
      "Menciones de \"charla\": 2\n",
      "Menciones de \"entretenimiento\": 1\n"
     ]
    }
   ],
   "source": [
    "from funciones_otras.ej6 import menciones\n",
    "\n",
    "descriptions = [\n",
    "\"Streaming de música en vivo con covers y composiciones\",\n",
    "\"Charla interactiva con la audiencia sobre series y películas\",\n",
    "\"Jugamos a juegos retro y charlamos sobre su historia\",\n",
    "\"Exploramos la mejor música de los 80s y 90s\",\n",
    "\"Programa de entretenimiento con noticias y curiosidades del mundo gamer\",\n",
    "\"Sesión de charla con invitados especiales del mundo del streaming\",\n",
    "\"Música en directo con improvisaciones y peticiones del chat\",\n",
    "\"Un espacio para charlar relajada sobre tecnología y cultura digital\",\n",
    "\"Exploramos el impacto de la música en los videojuegos clásicos\"\n",
    "]\n",
    "\n",
    "tipo=['música','charla','entretenimiento']\n",
    "for i in tipo:\n",
    "    print (f'Menciones de \"{i}\": {menciones(i,descriptions)}')"
   ]
  },
  {
   "cell_type": "markdown",
   "metadata": {},
   "source": [
    "Ejercicio 7"
   ]
  },
  {
   "cell_type": "code",
   "execution_count": 2,
   "metadata": {},
   "outputs": [
    {
     "name": "stdout",
     "output_type": "stream",
     "text": [
      "Usuario: gdgsg\n",
      "Fecha: 2025-04-03\n",
      "Codigo de descuento: GDGSG-202543-XQ5OR8T1TT58JPOMI\n"
     ]
    }
   ],
   "source": [
    "from funciones_otras.ej7 import generador_descuento\n",
    "from datetime import date\n",
    "\n",
    "usuario= input ('Ingrese su usuario: ')\n",
    "if len (usuario)>15:\n",
    "    print ('El nombre de usuario no puede superar los 15 caracteres')\n",
    "    sys.exit ()\n",
    "today=date.today ()\n",
    "print (f'Usuario: {usuario}')\n",
    "print (f'Fecha: {today}')\n",
    "print (f'Codigo de descuento: {generador_descuento (usuario,today)}')"
   ]
  },
  {
   "cell_type": "markdown",
   "metadata": {},
   "source": [
    "Ejercicio 8"
   ]
  },
  {
   "cell_type": "code",
   "execution_count": 4,
   "metadata": {},
   "outputs": [
    {
     "name": "stdout",
     "output_type": "stream",
     "text": [
      "No son anagramas\n"
     ]
    }
   ],
   "source": [
    "from funciones_otras.ej8 import anagramas\n",
    "\n",
    "word1= input ('Ingrese la primera palabra: ')\n",
    "word2= input ('Ingrese la segunda palabra: ')\n",
    "\n",
    "if anagramas (word1,word2)==True: \n",
    "    print ('Son anagramas')\n",
    "else:\n",
    "    print ('No son anagramas')"
   ]
  },
  {
   "cell_type": "markdown",
   "metadata": {},
   "source": [
    "Ejercicio 9"
   ]
  },
  {
   "cell_type": "code",
   "execution_count": 4,
   "metadata": {},
   "outputs": [
    {
     "name": "stdout",
     "output_type": "stream",
     "text": [
      "Lista limpia de clientes al realizar todas las operaciones: \n"
     ]
    },
    {
     "data": {
      "text/plain": [
       "['Alejandro González',\n",
       " 'Ana López',\n",
       " 'Andrés Ocampo',\n",
       " 'Carlos Mendes',\n",
       " 'Claudia Torres',\n",
       " 'Damián Castillo',\n",
       " 'Gabriela Ruíz',\n",
       " 'Juan Pérez',\n",
       " 'Laura Ramos',\n",
       " 'Lauraramos',\n",
       " 'Luis Rodríguez',\n",
       " 'Maria Martínez',\n",
       " 'Marta Suárez',\n",
       " 'María Martínez',\n",
       " 'Miguel Ángel',\n",
       " 'Monica Herrera',\n",
       " 'Patricia Vega',\n",
       " 'Pedro Gómez',\n",
       " 'Ricardo Fernández',\n",
       " 'Sandra Morales']"
      ]
     },
     "execution_count": 4,
     "metadata": {},
     "output_type": "execute_result"
    }
   ],
   "source": [
    "from funciones_otras.ej9 import cleaner\n",
    "\n",
    "clients = [\n",
    "\" Ana López \", \"Pedro Gómez\", \"maria martínez\", \"Pedro Gómez \", \"\",\n",
    "\" Luis Rodríguez \", None, \"ana lópez\", \"JUAN PÉREZ\", \"MARTA SUÁREZ\",\n",
    "\"luis rodríguez\", \"maría martínez \", \" claudia torres\", \"CLAUDIA TORRES\",\n",
    "\" \", \"pedro gómez\", \"Juan Pérez\", None, \"Ricardo Fernández\", \"LAURARAMOS\",\n",
    "\"carlos mendes\", \"RICARDO FERNÁNDEZ \", \" Laura ramos\", \"CARLOS MENDES\",\n",
    "\"alejandro gonzález\", \" ALEJANDRO GONZÁLEZ \", \"Patricia Vega\",\n",
    "\"patricia VEGA\", \"Andrés Ocampo\", \" andrés ocampo\", \"Monica Herrera\",\n",
    "\"MONICA HERRERA \", \"gabriela ruíz\", \"Gabriela Ruíz\", \"sandra morales\",\n",
    "\"SANDRA MORALES\", \"miguel ángel\", \"Miguel Ángel \", \" Damián Castillo\",\n",
    "\"Damián Castillo \", None, \"\", \" \"\n",
    "]\n",
    "\n",
    "print ('Lista limpia de clientes al realizar todas las operaciones: ')\n",
    "cleaner (clients)\n",
    "\n"
   ]
  },
  {
   "cell_type": "markdown",
   "metadata": {},
   "source": [
    "Ejercicio 10"
   ]
  },
  {
   "cell_type": "code",
   "execution_count": 2,
   "metadata": {},
   "outputs": [
    {
     "name": "stdout",
     "output_type": "stream",
     "text": [
      "        kills  assists  deaths  puntos_totales  MVP\n",
      "Shadow      6        6       2              22    2\n",
      "Blaze       6        3       3              18    1\n",
      "Viper       5        6       3              18    1\n",
      "Reaper      4        5       1              16    0\n",
      "Frost       4        5       2              15    1\n"
     ]
    }
   ],
   "source": [
    "from funciones_ej10.principal import simulacion_partidas\n",
    "\n",
    "rounds = [\n",
    "{\n",
    "'Shadow': {'kills': 2, 'assists': 1, 'deaths': True},\n",
    "'Blaze': {'kills': 1, 'assists': 0, 'deaths': False},\n",
    "'Viper': {'kills': 1, 'assists': 2, 'deaths': True},\n",
    "'Frost': {'kills': 0, 'assists': 1, 'deaths': False},\n",
    "'Reaper': {'kills': 1, 'assists': 1, 'deaths': False}\n",
    "},\n",
    "{\n",
    "'Shadow': {'kills': 0, 'assists': 2, 'deaths': False},\n",
    "'Blaze': {'kills': 2, 'assists': 0, 'deaths': True},\n",
    "'Viper': {'kills': 1, 'assists': 1, 'deaths': False},\n",
    "'Frost': {'kills': 2, 'assists': 1, 'deaths': True},\n",
    "'Reaper': {'kills': 0, 'assists': 1, 'deaths': False}\n",
    "},\n",
    "{\n",
    "'Shadow': {'kills': 1, 'assists': 0, 'deaths': False},\n",
    "'Blaze': {'kills': 2, 'assists': 2, 'deaths': True},\n",
    "'Viper': {'kills': 1, 'assists': 1, 'deaths': True},\n",
    "'Frost': {'kills': 0, 'assists': 1, 'deaths': False},\n",
    "'Reaper': {'kills': 1, 'assists': 1, 'deaths': False}\n",
    "},\n",
    "{\n",
    "'Shadow': {'kills': 2, 'assists': 1, 'deaths': False},\n",
    "'Blaze': {'kills': 1, 'assists': 0, 'deaths': True},\n",
    "'Viper': {'kills': 0, 'assists': 2, 'deaths': False},\n",
    "'Frost': {'kills': 1, 'assists': 1, 'deaths': True},\n",
    "'Reaper': {'kills': 1, 'assists': 1, 'deaths': False}\n",
    "},\n",
    "{\n",
    "'Shadow': {'kills': 1, 'assists': 2, 'deaths': True},\n",
    "'Blaze': {'kills': 0, 'assists': 1, 'deaths': False},\n",
    "'Viper': {'kills': 2, 'assists': 0, 'deaths': True},\n",
    "'Frost': {'kills': 1, 'assists': 1, 'deaths': False},\n",
    "'Reaper': {'kills': 1, 'assists': 1, 'deaths': True}\n",
    "}\n",
    "]\n",
    "\n",
    "simulacion_partidas (rounds)"
   ]
  }
 ],
 "metadata": {
  "kernelspec": {
   "display_name": "venv",
   "language": "python",
   "name": "python3"
  },
  "language_info": {
   "codemirror_mode": {
    "name": "ipython",
    "version": 3
   },
   "file_extension": ".py",
   "mimetype": "text/x-python",
   "name": "python",
   "nbconvert_exporter": "python",
   "pygments_lexer": "ipython3",
   "version": "3.12.9"
  }
 },
 "nbformat": 4,
 "nbformat_minor": 2
}
